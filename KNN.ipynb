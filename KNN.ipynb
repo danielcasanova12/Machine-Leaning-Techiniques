{
 "cells": [
  {
   "cell_type": "code",
   "execution_count": null,
   "metadata": {},
   "outputs": [],
   "source": [
    "%pip install pandas \n",
    "%pip install scikit-learn"
   ]
  },
  {
   "cell_type": "code",
   "execution_count": 7,
   "metadata": {},
   "outputs": [],
   "source": [
    "\n",
    "from sklearn.datasets import load_breast_cancer #importa o dataset\n",
    "import pandas as pd \n",
    "from sklearn.neighbors import KNeighborsClassifier\n",
    "from sklearn.preprocessing import MinMaxScaler\n",
    "from sklearn.model_selection import train_test_split\n",
    "\n",
    "pd.set_option('display.max_columns', 30) #define o número máximo de colunas a serem exibidas\n",
    "dados = load_breast_cancer() #carrega o dataset\n",
    "x = pd.DataFrame(dados.data, columns=[dados.feature_names]) #transforma os dados em um DataFrame\n",
    "y = pd.Series(dados.target) #transforma os dados em um DataFrame\n",
    "\n"
   ]
  },
  {
   "cell_type": "code",
   "execution_count": 12,
   "metadata": {},
   "outputs": [
    {
     "name": "stdout",
     "output_type": "stream",
     "text": [
      "Acurácia:  0.9649122807017544\n"
     ]
    }
   ],
   "source": [
    "from sklearn.neighbors import KNeighborsClassifier\n",
    "from sklearn.preprocessing import MinMaxScaler\n",
    "from sklearn.model_selection import train_test_split\n",
    "\n",
    "normalizador = MinMaxScaler(feature_range=(0,1)) #normaliza os dados entre 0 e 1\n",
    "x_norm = normalizador.fit_transform(x) #aplica a normalização nos dados de x\n",
    "\n",
    "x_train, x_test, y_train, y_test = train_test_split(x_norm, y, test_size=0.3, random_state=16) #separa os dados em treino e teste (70% treino e 30% teste) \n",
    "\n",
    "modelo_knn = KNeighborsClassifier(n_neighbors=5) #cria o classificador knn\n",
    "modelo_knn.fit(x_train, y_train)   #treina o classificador\n",
    "\n",
    "resultado = modelo_knn.score(x_test, y_test) #testa o classificador\n",
    "print(\"Acurácia: \",+resultado)\n"
   ]
  },
  {
   "cell_type": "markdown",
   "metadata": {},
   "source": [
    "**PCA**"
   ]
  },
  {
   "cell_type": "code",
   "execution_count": 13,
   "metadata": {},
   "outputs": [],
   "source": [
    "from sklearn.datasets import load_iris\n",
    "import pandas as pd\n",
    "\n",
    "\n",
    "iris = load_iris()\n",
    "x = pd.DataFrame(iris.data, columns=[iris.feature_names])\n",
    "y = pd.Series(iris.target)"
   ]
  },
  {
   "cell_type": "code",
   "execution_count": 22,
   "metadata": {},
   "outputs": [
    {
     "name": "stdout",
     "output_type": "stream",
     "text": [
      "Acurácia:  0.9555555555555556\n"
     ]
    }
   ],
   "source": [
    "from sklearn.preprocessing import MinMaxScaler\n",
    "from sklearn.decomposition import PCA\n",
    "from sklearn.model_selection import train_test_split\n",
    "from sklearn.neighbors import KNeighborsClassifier\n",
    "\n",
    "normalizador = MinMaxScaler(feature_range=(0,1))\n",
    "x_norm = normalizador.fit_transform(x)\n",
    "\n",
    "pca = PCA(n_components=3)\n",
    "x_pca = pca.fit_transform(x_norm)\n",
    "\n",
    "x_train, x_test, y_train, y_test = train_test_split(x_pca, y, test_size=0.3, random_state=14)\n",
    "\n",
    "modelo_knn = KNeighborsClassifier(n_neighbors=5)\n",
    "modelo_knn.fit(x_train, y_train)\n",
    "\n",
    "resultado = modelo_knn.score(x_test, y_test)\n",
    "print(\"Acurácia: \",+resultado)\n"
   ]
  },
  {
   "cell_type": "code",
   "execution_count": 24,
   "metadata": {},
   "outputs": [
    {
     "name": "stdout",
     "output_type": "stream",
     "text": [
      "Variancia por que cada nova variável tem  [0.84136038 0.11751808 0.03473561]\n"
     ]
    }
   ],
   "source": [
    "print(\"Variancia por que cada nova variável tem \",+pca.explained_variance_ratio_)"
   ]
  },
  {
   "cell_type": "code",
   "execution_count": null,
   "metadata": {},
   "outputs": [],
   "source": []
  },
  {
   "cell_type": "code",
   "execution_count": null,
   "metadata": {},
   "outputs": [],
   "source": []
  }
 ],
 "metadata": {
  "kernelspec": {
   "display_name": "Python 3",
   "language": "python",
   "name": "python3"
  },
  "language_info": {
   "codemirror_mode": {
    "name": "ipython",
    "version": 3
   },
   "file_extension": ".py",
   "mimetype": "text/x-python",
   "name": "python",
   "nbconvert_exporter": "python",
   "pygments_lexer": "ipython3",
   "version": "3.11.8"
  }
 },
 "nbformat": 4,
 "nbformat_minor": 2
}
